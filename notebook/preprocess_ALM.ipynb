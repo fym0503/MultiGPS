{
 "cells": [
  {
   "cell_type": "code",
   "execution_count": 1,
   "metadata": {},
   "outputs": [],
   "source": [
    "import numpy as np\n",
    "import pandas as pd\n",
    "import anndata as ad\n",
    "import scanpy as sc\n",
    "from scipy.sparse import csr_matrix"
   ]
  },
  {
   "cell_type": "markdown",
   "metadata": {},
   "source": [
    "The ALM dataset can be downloaded from\n",
    "https://celltypes.brain-map.org/api/v2/well_known_file_download/694413179 \n",
    "\n",
    "Download it and extracted it in ALM subfolder, all datas below can be extracted here."
   ]
  },
  {
   "cell_type": "code",
   "execution_count": 2,
   "metadata": {},
   "outputs": [
    {
     "data": {
      "text/html": [
       "<div>\n",
       "<style scoped>\n",
       "    .dataframe tbody tr th:only-of-type {\n",
       "        vertical-align: middle;\n",
       "    }\n",
       "\n",
       "    .dataframe tbody tr th {\n",
       "        vertical-align: top;\n",
       "    }\n",
       "\n",
       "    .dataframe thead th {\n",
       "        text-align: right;\n",
       "    }\n",
       "</style>\n",
       "<table border=\"1\" class=\"dataframe\">\n",
       "  <thead>\n",
       "    <tr style=\"text-align: right;\">\n",
       "      <th></th>\n",
       "      <th>seq_name</th>\n",
       "      <th>class</th>\n",
       "      <th>subclass</th>\n",
       "      <th>cluster</th>\n",
       "    </tr>\n",
       "    <tr>\n",
       "      <th>sample_id</th>\n",
       "      <th></th>\n",
       "      <th></th>\n",
       "      <th></th>\n",
       "      <th></th>\n",
       "    </tr>\n",
       "  </thead>\n",
       "  <tbody>\n",
       "    <tr>\n",
       "      <th>F1S4_161216_001_A01</th>\n",
       "      <td>SM-D9CZQ_S96_E1-50</td>\n",
       "      <td>Glutamatergic</td>\n",
       "      <td>L5 PT</td>\n",
       "      <td>L5 PT ALM Slco2a1</td>\n",
       "    </tr>\n",
       "    <tr>\n",
       "      <th>F1S4_180124_314_A01</th>\n",
       "      <td>SM-GE8ZM_S081_E1-50</td>\n",
       "      <td>Glutamatergic</td>\n",
       "      <td>L5 IT</td>\n",
       "      <td>L5 IT ALM Npw</td>\n",
       "    </tr>\n",
       "    <tr>\n",
       "      <th>F1S4_180124_315_A01</th>\n",
       "      <td>SM-GE8ZM_S089_E1-50</td>\n",
       "      <td>GABAergic</td>\n",
       "      <td>Lamp5</td>\n",
       "      <td>Lamp5 Fam19a1 Pax6</td>\n",
       "    </tr>\n",
       "    <tr>\n",
       "      <th>F1S4_180124_315_B01</th>\n",
       "      <td>SM-GE8ZM_S090_E1-50</td>\n",
       "      <td>GABAergic</td>\n",
       "      <td>Sncg</td>\n",
       "      <td>Sncg Slc17a8</td>\n",
       "    </tr>\n",
       "    <tr>\n",
       "      <th>F1S4_180124_315_C01</th>\n",
       "      <td>SM-GE8ZM_S091_E1-50</td>\n",
       "      <td>GABAergic</td>\n",
       "      <td>Sncg</td>\n",
       "      <td>Sncg Slc17a8</td>\n",
       "    </tr>\n",
       "  </tbody>\n",
       "</table>\n",
       "</div>"
      ],
      "text/plain": [
       "                                seq_name          class subclass  \\\n",
       "sample_id                                                          \n",
       "F1S4_161216_001_A01   SM-D9CZQ_S96_E1-50  Glutamatergic    L5 PT   \n",
       "F1S4_180124_314_A01  SM-GE8ZM_S081_E1-50  Glutamatergic    L5 IT   \n",
       "F1S4_180124_315_A01  SM-GE8ZM_S089_E1-50      GABAergic    Lamp5   \n",
       "F1S4_180124_315_B01  SM-GE8ZM_S090_E1-50      GABAergic     Sncg   \n",
       "F1S4_180124_315_C01  SM-GE8ZM_S091_E1-50      GABAergic     Sncg   \n",
       "\n",
       "                                cluster  \n",
       "sample_id                                \n",
       "F1S4_161216_001_A01   L5 PT ALM Slco2a1  \n",
       "F1S4_180124_314_A01       L5 IT ALM Npw  \n",
       "F1S4_180124_315_A01  Lamp5 Fam19a1 Pax6  \n",
       "F1S4_180124_315_B01        Sncg Slc17a8  \n",
       "F1S4_180124_315_C01        Sncg Slc17a8  "
      ]
     },
     "execution_count": 2,
     "metadata": {},
     "output_type": "execute_result"
    }
   ],
   "source": [
    "filename = './ALM/mouse_ALM_2018-06-14_exon-matrix.csv'\n",
    "expr_df = pd.read_csv(filename, header=0, index_col=0, delimiter=',').transpose()\n",
    "expr = expr_df.values\n",
    "\n",
    "# Find gene names\n",
    "filename = './ALM/mouse_ALM_2018-06-14_genes-rows.csv'\n",
    "genes_df = pd.read_csv(filename, header=0, index_col=0, delimiter=',')\n",
    "gene_symbol = genes_df.index.values\n",
    "gene_ids = genes_df['gene_entrez_id'].values\n",
    "gene_names = np.array([gene_symbol[np.where(gene_ids == name)[0][0]] for name in expr_df.columns])\n",
    "\n",
    "# Get metadata and save restrict to relevant fields\n",
    "filename = './ALM/mouse_ALM_2018-06-14_samples-columns.csv'\n",
    "obs = pd.read_csv(filename, header=0, index_col=0, delimiter=',', encoding='iso-8859-1')\n",
    "\n",
    "obs = obs.reset_index()\n",
    "obs = obs[['sample_name','seq_name','class','subclass','cluster']]\n",
    "obs = obs.rename(columns={'sample_name':'sample_id'})\n",
    "obs = obs.set_index('sample_id')\n",
    "obs.head()"
   ]
  },
  {
   "cell_type": "code",
   "execution_count": 3,
   "metadata": {},
   "outputs": [],
   "source": [
    "# compose and store anndata object for efficient read/write\n",
    "adata = ad.AnnData(X=csr_matrix(expr))\n",
    "adata.var_names = gene_names\n",
    "adata.var.index.set_names('genes', inplace=True)\n",
    "adata.obs = obs\n",
    "adata.obs['cell_type'] = adata.obs['subclass']\n",
    "\n",
    "# adata.write('./ALM/ALM.h5ad')"
   ]
  },
  {
   "cell_type": "code",
   "execution_count": 4,
   "metadata": {},
   "outputs": [],
   "source": [
    "# transforms data in adata.X\n",
    "adata.layers['log1pcpm'] = sc.pp.normalize_total(adata, target_sum=1e5, inplace=False)['X']\n",
    "\n",
    "# transforms data in layers['lognorm'] inplace\n",
    "sc.pp.log1p(adata, layer='log1pcpm')\n"
   ]
  },
  {
   "cell_type": "code",
   "execution_count": 5,
   "metadata": {},
   "outputs": [
    {
     "name": "stderr",
     "output_type": "stream",
     "text": [
      "/root/miniconda3/lib/python3.10/site-packages/scanpy/preprocessing/_highly_variable_genes.py:252: FutureWarning: The default of observed=False is deprecated and will be changed to True in a future version of pandas. Pass observed=False to retain current behavior or observed=True to adopt the future default and silence this warning.\n",
      "  disp_grouped = df.groupby('mean_bin')['dispersions']\n"
     ]
    }
   ],
   "source": [
    "# introduces \"highly_variable\" column to adata.var\n",
    "sc.pp.highly_variable_genes(adata, \n",
    "                            layer='log1pcpm', \n",
    "                            flavor='cell_ranger',\n",
    "                            n_top_genes=10000, \n",
    "                            inplace=True)"
   ]
  },
  {
   "cell_type": "code",
   "execution_count": 6,
   "metadata": {},
   "outputs": [],
   "source": [
    "# adata_hvg is a view. We'll convert it to a new AnnData object and write it out. \n",
    "adata_hvg = ad.AnnData(X=adata.X,\n",
    "                       obs=adata.obs, \n",
    "                       var=adata.var[['highly_variable']],\n",
    "                       layers=adata.layers, uns=adata.uns)\n",
    "adata_hvg.write('./ALM/ALM_filtered_cells.h5ad')"
   ]
  }
 ],
 "metadata": {
  "kernelspec": {
   "display_name": "GPS",
   "language": "python",
   "name": "python3"
  },
  "language_info": {
   "codemirror_mode": {
    "name": "ipython",
    "version": 3
   },
   "file_extension": ".py",
   "mimetype": "text/x-python",
   "name": "python",
   "nbconvert_exporter": "python",
   "pygments_lexer": "ipython3",
   "version": "3.10.8"
  }
 },
 "nbformat": 4,
 "nbformat_minor": 2
}
