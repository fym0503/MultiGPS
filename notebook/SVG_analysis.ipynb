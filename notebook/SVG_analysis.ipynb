{
 "cells": [
  {
   "cell_type": "markdown",
   "metadata": {},
   "source": [
    "# SVG analysis of MultiGPS \n",
    "To run the code, you need install SpatialDE by `pip install spatialde` besides the MultiGPS requirements."
   ]
  },
  {
   "cell_type": "code",
   "execution_count": 1,
   "metadata": {},
   "outputs": [],
   "source": [
    "import numpy as np\n",
    "import pandas as pd\n",
    "\n",
    "import NaiveDE\n",
    "import SpatialDE\n",
    "import anndata as ad\n",
    "import scanpy as sc\n",
    "import matplotlib.pyplot as plt"
   ]
  },
  {
   "cell_type": "code",
   "execution_count": 2,
   "metadata": {},
   "outputs": [
    {
     "name": "stderr",
     "output_type": "stream",
     "text": [
      "/root/miniconda3/envs/SpatialDE/lib/python3.8/site-packages/scipy/optimize/_minpack_py.py:906: OptimizeWarning: Covariance of the parameters could not be estimated\n",
      "  warnings.warn('Covariance of the parameters could not be estimated',\n"
     ]
    },
    {
     "data": {
      "application/vnd.jupyter.widget-view+json": {
       "model_id": "a94cf1bacebd4d10886063ee8511a520",
       "version_major": 2,
       "version_minor": 0
      },
      "text/plain": [
       "Models:   0%|          | 0/10 [00:00<?, ?it/s]"
      ]
     },
     "metadata": {},
     "output_type": "display_data"
    },
    {
     "data": {
      "application/vnd.jupyter.widget-view+json": {
       "model_id": "9c1777843d6a4e8c8a1f468da6719e94",
       "version_major": 2,
       "version_minor": 0
      },
      "text/plain": [
       "  0%|          | 0/1123 [00:00<?, ?it/s]"
      ]
     },
     "metadata": {},
     "output_type": "display_data"
    },
    {
     "data": {
      "application/vnd.jupyter.widget-view+json": {
       "model_id": "0cb1a08a709545b2a48f9aa99ea5e797",
       "version_major": 2,
       "version_minor": 0
      },
      "text/plain": [
       "  0%|          | 0/1123 [00:00<?, ?it/s]"
      ]
     },
     "metadata": {},
     "output_type": "display_data"
    },
    {
     "data": {
      "application/vnd.jupyter.widget-view+json": {
       "model_id": "04e51bf1acfc445fa6d811582ec24bea",
       "version_major": 2,
       "version_minor": 0
      },
      "text/plain": [
       "  0%|          | 0/1123 [00:00<?, ?it/s]"
      ]
     },
     "metadata": {},
     "output_type": "display_data"
    },
    {
     "data": {
      "application/vnd.jupyter.widget-view+json": {
       "model_id": "a58e7cec7ff44ec9970ca7032d9762c1",
       "version_major": 2,
       "version_minor": 0
      },
      "text/plain": [
       "  0%|          | 0/1123 [00:00<?, ?it/s]"
      ]
     },
     "metadata": {},
     "output_type": "display_data"
    },
    {
     "data": {
      "application/vnd.jupyter.widget-view+json": {
       "model_id": "e31bc6e0eaef413a8b63f8b299c515e7",
       "version_major": 2,
       "version_minor": 0
      },
      "text/plain": [
       "  0%|          | 0/1123 [00:00<?, ?it/s]"
      ]
     },
     "metadata": {},
     "output_type": "display_data"
    },
    {
     "data": {
      "application/vnd.jupyter.widget-view+json": {
       "model_id": "960ba763ccd84ab7acaa86338a0db1c8",
       "version_major": 2,
       "version_minor": 0
      },
      "text/plain": [
       "  0%|          | 0/1123 [00:00<?, ?it/s]"
      ]
     },
     "metadata": {},
     "output_type": "display_data"
    },
    {
     "data": {
      "application/vnd.jupyter.widget-view+json": {
       "model_id": "df690f3ac8e346f09460a1f57b638d54",
       "version_major": 2,
       "version_minor": 0
      },
      "text/plain": [
       "  0%|          | 0/1123 [00:00<?, ?it/s]"
      ]
     },
     "metadata": {},
     "output_type": "display_data"
    },
    {
     "data": {
      "application/vnd.jupyter.widget-view+json": {
       "model_id": "e82477816e8d48fdac158c8b7f16cffb",
       "version_major": 2,
       "version_minor": 0
      },
      "text/plain": [
       "  0%|          | 0/1123 [00:00<?, ?it/s]"
      ]
     },
     "metadata": {},
     "output_type": "display_data"
    },
    {
     "data": {
      "application/vnd.jupyter.widget-view+json": {
       "model_id": "f8c2181dc8fa41b59d6da7d446896b16",
       "version_major": 2,
       "version_minor": 0
      },
      "text/plain": [
       "  0%|          | 0/1123 [00:00<?, ?it/s]"
      ]
     },
     "metadata": {},
     "output_type": "display_data"
    },
    {
     "data": {
      "application/vnd.jupyter.widget-view+json": {
       "model_id": "2641fbc212b346fba48941d203d350b9",
       "version_major": 2,
       "version_minor": 0
      },
      "text/plain": [
       "  0%|          | 0/1123 [00:00<?, ?it/s]"
      ]
     },
     "metadata": {},
     "output_type": "display_data"
    },
    {
     "data": {
      "application/vnd.jupyter.widget-view+json": {
       "model_id": "bad25033a1b540f090e9b8d63d300d2d",
       "version_major": 2,
       "version_minor": 0
      },
      "text/plain": [
       "Models:   0%|          | 0/11 [00:00<?, ?it/s]"
      ]
     },
     "metadata": {},
     "output_type": "display_data"
    },
    {
     "data": {
      "application/vnd.jupyter.widget-view+json": {
       "model_id": "7cb1da98bc8f4c4094d9acd366e2b31a",
       "version_major": 2,
       "version_minor": 0
      },
      "text/plain": [
       "  0%|          | 0/965 [00:00<?, ?it/s]"
      ]
     },
     "metadata": {},
     "output_type": "display_data"
    },
    {
     "data": {
      "application/vnd.jupyter.widget-view+json": {
       "model_id": "8ae47ad8e17c4f99bfff07adfe8a3778",
       "version_major": 2,
       "version_minor": 0
      },
      "text/plain": [
       "  0%|          | 0/965 [00:00<?, ?it/s]"
      ]
     },
     "metadata": {},
     "output_type": "display_data"
    },
    {
     "data": {
      "application/vnd.jupyter.widget-view+json": {
       "model_id": "e562a68b36034e3697d2c9f6f2fa6d4b",
       "version_major": 2,
       "version_minor": 0
      },
      "text/plain": [
       "  0%|          | 0/965 [00:00<?, ?it/s]"
      ]
     },
     "metadata": {},
     "output_type": "display_data"
    },
    {
     "data": {
      "application/vnd.jupyter.widget-view+json": {
       "model_id": "2999a94affe64d0da4de67b9c6ce275c",
       "version_major": 2,
       "version_minor": 0
      },
      "text/plain": [
       "  0%|          | 0/965 [00:00<?, ?it/s]"
      ]
     },
     "metadata": {},
     "output_type": "display_data"
    },
    {
     "data": {
      "application/vnd.jupyter.widget-view+json": {
       "model_id": "52065368b7454f5fbda75ffdd9482d7c",
       "version_major": 2,
       "version_minor": 0
      },
      "text/plain": [
       "  0%|          | 0/965 [00:00<?, ?it/s]"
      ]
     },
     "metadata": {},
     "output_type": "display_data"
    },
    {
     "data": {
      "application/vnd.jupyter.widget-view+json": {
       "model_id": "ed4b3eedd6574e508cb434f2ca2aa05a",
       "version_major": 2,
       "version_minor": 0
      },
      "text/plain": [
       "  0%|          | 0/965 [00:00<?, ?it/s]"
      ]
     },
     "metadata": {},
     "output_type": "display_data"
    },
    {
     "data": {
      "application/vnd.jupyter.widget-view+json": {
       "model_id": "6bdb89d60b574ff19d37c24814f3d7b6",
       "version_major": 2,
       "version_minor": 0
      },
      "text/plain": [
       "  0%|          | 0/965 [00:00<?, ?it/s]"
      ]
     },
     "metadata": {},
     "output_type": "display_data"
    },
    {
     "data": {
      "application/vnd.jupyter.widget-view+json": {
       "model_id": "5591c6c2863349ddb18420658fed2238",
       "version_major": 2,
       "version_minor": 0
      },
      "text/plain": [
       "  0%|          | 0/965 [00:00<?, ?it/s]"
      ]
     },
     "metadata": {},
     "output_type": "display_data"
    },
    {
     "data": {
      "application/vnd.jupyter.widget-view+json": {
       "model_id": "2835cd4c68ff4d19a3640c66e9aaf956",
       "version_major": 2,
       "version_minor": 0
      },
      "text/plain": [
       "  0%|          | 0/965 [00:00<?, ?it/s]"
      ]
     },
     "metadata": {},
     "output_type": "display_data"
    },
    {
     "data": {
      "application/vnd.jupyter.widget-view+json": {
       "model_id": "33b912f90e38457b9bcf9e2805aff174",
       "version_major": 2,
       "version_minor": 0
      },
      "text/plain": [
       "  0%|          | 0/965 [00:00<?, ?it/s]"
      ]
     },
     "metadata": {},
     "output_type": "display_data"
    },
    {
     "data": {
      "application/vnd.jupyter.widget-view+json": {
       "model_id": "14a32dd4583041e7b528e7deecd5e131",
       "version_major": 2,
       "version_minor": 0
      },
      "text/plain": [
       "  0%|          | 0/965 [00:00<?, ?it/s]"
      ]
     },
     "metadata": {},
     "output_type": "display_data"
    }
   ],
   "source": [
    "adata = ad.read_h5ad(f'/root/autodl-tmp/MultiGPS/notebook/MERFISH/Zhuang-ABCA-1.014_processed.h5ad')\n",
    "sc.pp.subsample(adata, n_obs=5000)  # You can adjust the fraction as needed\n",
    "df = pd.DataFrame(adata.X, index=adata.obs.index, columns=adata.var.index).iloc[:,:]\n",
    "\n",
    "\n",
    "sample_info = adata.obs[['x_x', 'y_x', 'z_x']].iloc[:,:]\n",
    "sample_info['total_count'] = np.sum(df,axis=1)\n",
    "sample_info.to_csv(f'/root/autodl-tmp/MultiGPS/notebook/SpatialDE/middle_df_info_1014.csv')\n",
    "        \n",
    "X = adata.obs[['x_x', 'y_x', 'z_x']].iloc[:,:]\n",
    "\n",
    "# Convert data to log-scale, and account for depth\n",
    "dfm = NaiveDE.stabilize(df.T).T\n",
    "res = NaiveDE.regress_out(sample_info, dfm.T, 'np.log(total_count)').T\n",
    "\n",
    "res['log_total_count'] = np.log(sample_info['total_count'])\n",
    "results = SpatialDE.run(X, res)\n",
    "results['qval'] = SpatialDE.util.qvalue(results['pval'], pi0=1.0)\n",
    "\n",
    "# Save results and annotation in files for interactive plotting and interpretation\n",
    "results.to_csv('/root/autodl-tmp/MultiGPS/notebook/SpatialDE/middle_results_1014.csv')\n",
    "\n",
    "de_results = results[(results.qval < 0.05)].copy()\n",
    "ms_results = SpatialDE.model_search(X, res, de_results)\n",
    "\n",
    "ms_results.to_csv(f'/root/autodl-tmp/MultiGPS/notebook/SpatialDE/final_results_1014.csv')"
   ]
  },
  {
   "cell_type": "code",
   "execution_count": 3,
   "metadata": {},
   "outputs": [
    {
     "data": {
      "image/png": "[encoded data removed]",
      "text/plain": [
       "<Figure size 1100x650 with 1 Axes>"
      ]
     },
     "metadata": {},
     "output_type": "display_data"
    }
   ],
   "source": [
    "import matplotlib.pyplot as plt\n",
    "\n",
    "adata = ad.read_h5ad(f'/root/autodl-tmp/MultiGPS/notebook/MERFISH/Zhuang-ABCA-1.014_processed.h5ad')\n",
    "adata_var = adata.var.index.tolist()\n",
    "sample_info = pd.read_csv(f'/root/autodl-tmp/MultiGPS/notebook/SpatialDE/middle_df_info_1014.csv', index_col=0)\n",
    "#downsample adata by sample_info's index\n",
    "adata = adata[adata.obs.index.isin(sample_info.index)]\n",
    "df = pd.DataFrame(adata.X, index=adata.obs.index, columns=adata.var.index).iloc[:,:]\n",
    "results = pd.read_csv(f'/root/autodl-tmp/MultiGPS/notebook/SpatialDE/middle_results_1014.csv', index_col=0)\n",
    "\n",
    "with open(f'/root/autodl-tmp/MultiGPS/test/Zhuang-2005/index/recon-cls-coordination-seed114514-Zhuang-2005-epoch:999.txt', \"r\") as f:\n",
    "    gene_panel = f.readline()\n",
    "    gene_panel = eval(gene_panel)\n",
    "    gene_idx = []\n",
    "    for x in gene_panel:\n",
    "        try:\n",
    "            gene_idx.append(adata_var.index(x))\n",
    "        except:\n",
    "            pass\n",
    "\n",
    "results_selected = results.iloc[gene_idx[:64],:].sort_values('qval')\n",
    "qvals = results_selected['qval'].values\n",
    "    \n",
    "qvals /= 13\n",
    "plt.figure(figsize=(11, 6.5))\n",
    "plt.hist(qvals, bins=100, color='w', ec='k')\n",
    "plt.title('')\n",
    "plt.ylabel('# Genes')\n",
    "plt.xlabel('Q-value')\n",
    "plt.show()"
   ]
  },
  {
   "cell_type": "code",
   "execution_count": null,
   "metadata": {},
   "outputs": [],
   "source": []
  }
 ],
 "metadata": {
  "kernelspec": {
   "display_name": "base",
   "language": "python",
   "name": "python3"
  },
  "language_info": {
   "codemirror_mode": {
    "name": "ipython",
    "version": 3
   },
   "file_extension": ".py",
   "mimetype": "text/x-python",
   "name": "python",
   "nbconvert_exporter": "python",
   "pygments_lexer": "ipython3",
   "version": "3.8.20"
  }
 },
 "nbformat": 4,
 "nbformat_minor": 2
}
