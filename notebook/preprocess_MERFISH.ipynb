{
 "cells": [
  {
   "cell_type": "markdown",
   "metadata": {},
   "source": [
    "Files can be downloaded from https://alleninstitute.github.io/abc_atlas_access/descriptions/Zhuang-ABCA-1.html and processed by https://alleninstitute.github.io/abc_atlas_access/notebooks/zhuang_merfish_tutorial.html\n",
    "After you get the Zhuang-ABCA-1.014.h5ad and Zhuang-ABCA-2.005.h5ad, you can use the script to process them.\n",
    "\n",
    "Alternatively, you can also downloaded the processed version from https://drive.google.com/drive/folders/1bSPfU1mtF2mJ8X3LAVgFUKMTp5ElxPCu?usp=drive_link"
   ]
  },
  {
   "cell_type": "code",
   "execution_count": null,
   "metadata": {},
   "outputs": [],
   "source": [
    "import scanpy as sc\n"
   ]
  },
  {
   "cell_type": "code",
   "execution_count": null,
   "metadata": {},
   "outputs": [],
   "source": [
    "ad = sc.read('/root/autodl-tmp/MultiGPS/notebook/MERFISH/Zhuang-ABCA-2.005.h5ad')\n",
    "ad.obs['cell_type'] = ad.obs['subclass'].astype('category').cat.codes\n",
    "ad.obs['cluster'] = ad.obs['parcellation_index'].astype('category').cat.codes\n",
    "\n",
    "ad.layers['log1pcpm'] = sc.pp.normalize_total(ad, target_sum=1e3, inplace=False)['X']\n",
    "sc.pp.log1p(ad, layer='log1pcpm')\n",
    "ad.write_h5ad('/root/autodl-tmp/MultiGPS/notebook/MERFISH/Zhuang-ABCA-2.005_processed.h5ad')"
   ]
  },
  {
   "cell_type": "code",
   "execution_count": null,
   "metadata": {},
   "outputs": [],
   "source": [
    "ad = sc.read('/root/autodl-tmp/MultiGPS/notebook/MERFISH/Zhuang-ABCA-1.014.h5ad')\n",
    "ad.obs['cell_type'] = ad.obs['subclass'].astype('category').cat.codes\n",
    "ad.obs['cluster'] = ad.obs['parcellation_index'].astype('category').cat.codes\n",
    "\n",
    "ad.layers['log1pcpm'] = sc.pp.normalize_total(ad, target_sum=1e3, inplace=False)['X']\n",
    "sc.pp.log1p(ad, layer='log1pcpm')\n",
    "ad.write_h5ad('/root/autodl-tmp/MultiGPS/notebook/MERFISH/Zhuang-ABCA-1.014_processed.h5ad')"
   ]
  }
 ],
 "metadata": {
  "language_info": {
   "name": "python"
  }
 },
 "nbformat": 4,
 "nbformat_minor": 2
}
